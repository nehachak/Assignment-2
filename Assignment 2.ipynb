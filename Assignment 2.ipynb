{
 "cells": [
  {
   "cell_type": "markdown",
   "metadata": {},
   "source": [
    "# Task 1:"
   ]
  },
  {
   "cell_type": "markdown",
   "metadata": {},
   "source": [
    "#ques1.1"
   ]
  },
  {
   "cell_type": "code",
   "execution_count": 2,
   "metadata": {},
   "outputs": [
    {
     "name": "stdout",
     "output_type": "stream",
     "text": [
      "Testing result for my reduce function with list[1,2,3,4,5] is: 15\n"
     ]
    }
   ],
   "source": [
    "#Creating myreduce function which will work like Python's built-in function reduce()\n",
    "\n",
    "def sum(a,b):\n",
    "     \n",
    "     return a+b\n",
    "\n",
    "def myreduce(func,data):\n",
    "     outpt = data[0]\n",
    "     for item in data[1:]:\n",
    "          outpt = func(outpt, item)\n",
    "\n",
    "     return outpt\n",
    "\n",
    "lst=[1,2,3,4,5]     \n",
    "     \n",
    "print(\"Testing result for my reduce function with list[1,2,3,4,5] is:\",(myreduce(sum,lst)) )"
   ]
  },
  {
   "cell_type": "markdown",
   "metadata": {},
   "source": [
    "#ques1.2"
   ]
  },
  {
   "cell_type": "code",
   "execution_count": 3,
   "metadata": {},
   "outputs": [
    {
     "name": "stdout",
     "output_type": "stream",
     "text": [
      "Testing result for myfilter function with list[1,2,3,4,5,6,7,8] is [2, 4, 6, 8]\n"
     ]
    }
   ],
   "source": [
    "#Creating myfilter function which will work like Python's built-in function filter()\n",
    "\n",
    "def myfilter(func,data):\n",
    "     a=[]\n",
    "     for i in data:\n",
    "        if func(i):\n",
    "             a.append(i)\n",
    "     return a\n",
    "          \n",
    "lst=[1,2,3,4,5,6,7,8]\n",
    "def even_check(num):\n",
    "    if num%2 ==0:\n",
    "        return num\n",
    "\n",
    "print(\"Testing result for myfilter function with list[1,2,3,4,5,6,7,8] is\" ,myfilter(even_check,lst))\n"
   ]
  },
  {
   "cell_type": "markdown",
   "metadata": {},
   "source": [
    "#ques 2"
   ]
  },
  {
   "cell_type": "code",
   "execution_count": 18,
   "metadata": {},
   "outputs": [
    {
     "name": "stdout",
     "output_type": "stream",
     "text": [
      "['A', 'C', 'A', 'D', 'G', 'I', 'L', 'D']\n",
      "['x', 'xx', 'xxx', 'xxxx', 'y', 'yy', 'yyy', 'yyyy', 'z', 'zz', 'zzz', 'zzzz']\n",
      "['x', 'y', 'z', 'xx', 'yy', 'zz', 'xxx', 'yyy', 'zzz', 'xxxx', 'yyyy', 'zzzz']\n",
      "[[2], [3], [4], [3], [4], [5], [4], [5], [6]]\n",
      "[[2, 3, 4, 5], [3, 4, 5, 6], [4, 5, 6, 7], [5, 6, 7, 8]]\n",
      "[(1, 1), (2, 1), (3, 1), (1, 2), (2, 2), (3, 2), (1, 3), (2, 3), (3, 3)]\n"
     ]
    }
   ],
   "source": [
    "# List comprehensions to produce the following Lists\n",
    "\n",
    "new_lst= [letter for letter in 'ACADGILD' ]\n",
    "print(new_lst)\n",
    "\n",
    "\n",
    "\n",
    "lst=['x','y','z']\n",
    "new_lst=[i*n for i in lst for n in range(1,5)]\n",
    "print(new_lst)\n",
    "\n",
    "\n",
    "lst=['x','y','z']\n",
    "new_lst=[i*n for i in range(1,5) for n in lst]\n",
    "print(new_lst)\n",
    "\n",
    "\n",
    "\n",
    "lst=[2,3,4]\n",
    "\n",
    "new_lst=[[i+n] for i in lst for n in range(0,3)]\n",
    "print(new_lst)\n",
    "\n",
    "\n",
    "lst=[2,3,4,5]\n",
    "new_lst=[[i+n for i in lst] for n in range(0,4)]\n",
    "print(new_lst)\n",
    "\n",
    "\n",
    "lst=[1,2,3]\n",
    "new_lst=[(b,a) for a in lst for b in range(1,4)]\n",
    "print(new_lst)\n",
    "\n",
    "\n"
   ]
  },
  {
   "cell_type": "markdown",
   "metadata": {},
   "source": [
    "#ques 3"
   ]
  },
  {
   "cell_type": "code",
   "execution_count": 6,
   "metadata": {},
   "outputs": [
    {
     "name": "stdout",
     "output_type": "stream",
     "text": [
      "entered longest word in the list is: artificialIntellegence\n"
     ]
    }
   ],
   "source": [
    "def longestWord(words_list):  \n",
    "    word_len = []  \n",
    "    for n in words_list:  \n",
    "        word_len.append((len(n), n))  \n",
    "    word_len.sort()  \n",
    "    return word_len[-1][1]  \n",
    "  \n",
    "print(\"entered longest word in the list is:\",longestWord([\"artificialIntellegence\", \"dataScience\", \"MachineLearning\"]))\n"
   ]
  },
  {
   "cell_type": "markdown",
   "metadata": {},
   "source": [
    "# Task 2:"
   ]
  },
  {
   "cell_type": "markdown",
   "metadata": {},
   "source": [
    "#ques1.1"
   ]
  },
  {
   "cell_type": "code",
   "execution_count": 4,
   "metadata": {},
   "outputs": [
    {
     "name": "stdout",
     "output_type": "stream",
     "text": [
      "area =  2.9047375096555625\n"
     ]
    }
   ],
   "source": [
    "class triangle:\n",
    "         \n",
    "    def __init__(self,a,b,c):\n",
    "        self.a=a\n",
    "        self.b=b\n",
    "        self.c=c\n",
    "    def semi_perimeter(self):\n",
    "        self.s=(self.a+self.b+self.c)/2\n",
    "\n",
    "class tri_area(triangle):\n",
    "    def __init__(self):\n",
    "        \n",
    "        triangle.__init__(self,2,3,4)\n",
    "    def showArea(self):\n",
    "        print(\"area = \",(self.s*(self.s-self.a)*(self.s-self.b)*(self.s-self.c)) ** 0.5)\n",
    "\n",
    "\n",
    "t1=tri_area()\n",
    "t1.semi_perimeter()\n",
    "t1.showArea()"
   ]
  },
  {
   "cell_type": "markdown",
   "metadata": {},
   "source": [
    "#ques 1.2"
   ]
  },
  {
   "cell_type": "code",
   "execution_count": 5,
   "metadata": {},
   "outputs": [
    {
     "name": "stdout",
     "output_type": "stream",
     "text": [
      "Enter list of words:raam,nehachak,hello,ok\n",
      "Enter Min Length:4\n",
      "Words with at least min length: ['raam', 'nehachak', 'hello']\n"
     ]
    }
   ],
   "source": [
    "def filter_long_words(l,a):\n",
    "    words=[]\n",
    "    for j in l:\n",
    "        if(len(j)>=a):\n",
    "            words.append(j)\n",
    "    return words\n",
    "\n",
    "n=input(\"Enter list of words:\")\n",
    "lst=n.split(\",\")\n",
    "num=input(\"Enter Min Length:\")\n",
    "long=filter_long_words(lst,int(num))\n",
    "\n",
    "print(\"Words with at least min length:\",long)\n",
    "   "
   ]
  },
  {
   "cell_type": "markdown",
   "metadata": {},
   "source": [
    "#ques 2.1"
   ]
  },
  {
   "cell_type": "code",
   "execution_count": 1,
   "metadata": {},
   "outputs": [
    {
     "name": "stdout",
     "output_type": "stream",
     "text": [
      "[4, 7, 2]\n"
     ]
    }
   ],
   "source": [
    "def map_len(lst):\n",
    "    integer_lst=[]\n",
    "    for i in range(len(lst)):\n",
    "        integer_lst.append(len(lst[i]))\n",
    "\n",
    "    return integer_lst\n",
    "\n",
    "\n",
    "x=map_len([\"neha\",\"hellohi\",\"ok\"])\n",
    "print(x)"
   ]
  },
  {
   "cell_type": "markdown",
   "metadata": {},
   "source": [
    "#ques 2.2"
   ]
  },
  {
   "cell_type": "code",
   "execution_count": 3,
   "metadata": {},
   "outputs": [
    {
     "name": "stdout",
     "output_type": "stream",
     "text": [
      "enter lettera\n",
      "entered letter is vowel a\n"
     ]
    }
   ],
   "source": [
    "vowel_lst=['a','e','i','o','u']\n",
    "x=input(\"enter letter\")\n",
    "def char_lst(a):\n",
    "    if a in vowel_lst:\n",
    "        print(\"entered letter is vowel\",a)\n",
    "    else:\n",
    "        print(\"entered letter is not a vowel\",a)\n",
    "\n",
    "char_lst(x)"
   ]
  },
  {
   "cell_type": "code",
   "execution_count": null,
   "metadata": {},
   "outputs": [],
   "source": []
  }
 ],
 "metadata": {
  "kernelspec": {
   "display_name": "Python 3",
   "language": "python",
   "name": "python3"
  },
  "language_info": {
   "codemirror_mode": {
    "name": "ipython",
    "version": 3
   },
   "file_extension": ".py",
   "mimetype": "text/x-python",
   "name": "python",
   "nbconvert_exporter": "python",
   "pygments_lexer": "ipython3",
   "version": "3.6.5"
  }
 },
 "nbformat": 4,
 "nbformat_minor": 2
}
